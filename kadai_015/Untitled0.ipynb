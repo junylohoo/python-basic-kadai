{
  "cells": [
    {
      "cell_type": "code",
      "execution_count": null,
      "metadata": {
        "colab": {
          "base_uri": "https://localhost:8080/"
        },
        "id": "CqSu6RD8HPX1",
        "outputId": "4b86c91f-12a1-4682-e3a9-75fe39240397"
      },
      "outputs": [
        {
          "name": "stdout",
          "output_type": "stream",
          "text": [
            "マイケル\n",
            "23\n"
          ]
        }
      ],
      "source": [
        "class Human:git\n",
        "  def __init__(self):\n",
        "      self.name = \"\"\n",
        "      self.age = \"\"\n",
        "  def printinfo(self, name, age):\n",
        "    self.name = name\n",
        "    self.age = age\n",
        "  def show_name(self):\n",
        "      print(self.name)\n",
        "      print(self.age)\n",
        "\n",
        "human_being = Human()\n",
        "\n",
        "human_being.printinfo(\"マイケル\", 23)\n",
        "human_being.show_name()\n"
      ]
    },
    {
      "cell_type": "code",
      "execution_count": null,
      "metadata": {},
      "outputs": [],
      "source": []
    }
  ],
  "metadata": {
    "colab": {
      "gpuType": "T4",
      "provenance": []
    },
    "kernelspec": {
      "display_name": "Python 3",
      "name": "python3"
    },
    "language_info": {
      "name": "python"
    }
  },
  "nbformat": 4,
  "nbformat_minor": 0
}

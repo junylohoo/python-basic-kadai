{
  "nbformat": 4,
  "nbformat_minor": 0,
  "metadata": {
    "colab": {
      "provenance": [],
      "gpuType": "T4"
    },
    "kernelspec": {
      "name": "python3",
      "display_name": "Python 3"
    },
    "language_info": {
      "name": "python"
    }
  },
  "cells": [
    {
      "cell_type": "code",
      "source": [
        "class Human:\n",
        "   def __init__(self):\n",
        "      self.name = \"\"\n",
        "      self.age = \"\"\n",
        "\n",
        "   def printinfo(self, name, age):\n",
        "      self.name = name\n",
        "      self.age = age\n",
        "   def human_being(self):\n",
        "       print(self.name)\n",
        "       print(self.age)\n",
        "\n",
        "Danial = Human()\n",
        "\n",
        "Danial.printinfo(\"danial\", 23)\n",
        "Danial.human_being()\n",
        "\n"
      ],
      "metadata": {
        "colab": {
          "base_uri": "https://localhost:8080/"
        },
        "id": "CqSu6RD8HPX1",
        "outputId": "9e71010c-78a5-47a5-e4a6-c8f61c4ff9bb"
      },
      "execution_count": 3,
      "outputs": [
        {
          "output_type": "stream",
          "name": "stdout",
          "text": [
            "danial\n",
            "23\n"
          ]
        }
      ]
    }
  ]
}
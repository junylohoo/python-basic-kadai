{
  "nbformat": 4,
  "nbformat_minor": 0,
  "metadata": {
    "colab": {
      "provenance": [],
      "gpuType": "T4"
    },
    "kernelspec": {
      "name": "python3",
      "display_name": "Python 3"
    },
    "language_info": {
      "name": "python"
    }
  },
  "cells": [
    {
      "cell_type": "code",
      "source": [
        "class Human:\n",
        "   def __init__(self):\n",
        "       self.name = \"\"\n",
        "       self.age = \"\"\n",
        "   def set_name(self, name, age):\n",
        "       self.name = name\n",
        "       self.age = age\n",
        "   def printinfo(self):\n",
        "      print(self.name)\n",
        "      print(self.age)\n",
        "\n",
        "human_being = Human()\n",
        "\n",
        "human_being.set_name(\"danial\",23)\n",
        "human_being.printinfo()\n",
        "\n"
      ],
      "metadata": {
        "colab": {
          "base_uri": "https://localhost:8080/"
        },
        "id": "CqSu6RD8HPX1",
        "outputId": "26a1624d-9ce7-4568-8267-4197f8c6c5a2"
      },
      "execution_count": 17,
      "outputs": [
        {
          "output_type": "stream",
          "name": "stdout",
          "text": [
            "danial\n",
            "23\n"
          ]
        }
      ]
    }
  ]
}
{
  "nbformat": 4,
  "nbformat_minor": 0,
  "metadata": {
    "colab": {
      "provenance": [],
      "gpuType": "T4"
    },
    "kernelspec": {
      "name": "python3",
      "display_name": "Python 3"
    },
    "language_info": {
      "name": "python"
    }
  },
  "cells": [
    {
      "cell_type": "code",
      "source": [
        "class Human:\n",
        "   def __init__(self, name, age):\n",
        "       self.name = name\n",
        "       self.age = age\n",
        "\n",
        "   def printinfo(self):\n",
        "      print(self.name)\n",
        "      print(self.age)\n",
        "\n",
        "human_being = Human(\"danial\",23)\n",
        "\n",
        "human_being.printinfo()\n",
        "\n"
      ],
      "metadata": {
        "colab": {
          "base_uri": "https://localhost:8080/"
        },
        "id": "CqSu6RD8HPX1",
        "outputId": "2fc4d345-3b65-451e-cda5-3216742bedaa"
      },
      "execution_count": 23,
      "outputs": [
        {
          "output_type": "stream",
          "name": "stdout",
          "text": [
            "danial\n",
            "23\n"
          ]
        }
      ]
    }
  ]
}
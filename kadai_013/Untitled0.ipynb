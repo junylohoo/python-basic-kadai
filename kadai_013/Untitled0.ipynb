{
  "nbformat": 4,
  "nbformat_minor": 0,
  "metadata": {
    "colab": {
      "provenance": [],
      "gpuType": "T4"
    },
    "kernelspec": {
      "name": "python3",
      "display_name": "Python 3"
    },
    "language_info": {
      "name": "python"
    }
  },
  "cells": [
    {
      "cell_type": "code",
      "source": [
        "def add_two_arguments(price, tax):\n",
        "    return price +  (price * tax/100)\n",
        "\n",
        "add_two_arguments(110, 10)"
      ],
      "metadata": {
        "colab": {
          "base_uri": "https://localhost:8080/"
        },
        "id": "2mC11v20558w",
        "outputId": "6213ea70-3eca-45c1-e7ae-66b59a3b8f8a"
      },
      "execution_count": 29,
      "outputs": [
        {
          "output_type": "execute_result",
          "data": {
            "text/plain": [
              "121.0"
            ]
          },
          "metadata": {},
          "execution_count": 29
        }
      ]
    }
  ]
}
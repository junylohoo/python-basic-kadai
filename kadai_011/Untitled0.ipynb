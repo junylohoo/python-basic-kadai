{
  "nbformat": 4,
  "nbformat_minor": 0,
  "metadata": {
    "colab": {
      "provenance": [],
      "gpuType": "T4"
    },
    "kernelspec": {
      "name": "python3",
      "display_name": "Python 3"
    },
    "language_info": {
      "name": "python"
    },
    "accelerator": "GPU"
  },
  "cells": [
    {
      "cell_type": "code",
      "source": [
        "array = [\"水\",\"金\",\"地\",\"火\",\"木\",\"土\",\"天\",\"海\",\"冥\"]\n",
        "\n",
        "\n",
        "for element in array:\n",
        "    print(element)\n",
        "\n",
        "for elment in array:\n",
        "    print(element)"
      ],
      "metadata": {
        "colab": {
          "base_uri": "https://localhost:8080/"
        },
        "id": "RLuELUjI2_64",
        "outputId": "79fc2d0f-37bc-4d3e-95f9-478b22cf5725"
      },
      "execution_count": null,
      "outputs": [
        {
          "output_type": "stream",
          "name": "stdout",
          "text": [
            "水\n",
            "金\n",
            "地\n",
            "火\n",
            "木\n",
            "土\n",
            "天\n",
            "海\n",
            "冥\n",
            "冥\n",
            "冥\n",
            "冥\n",
            "冥\n",
            "冥\n",
            "冥\n",
            "冥\n",
            "冥\n",
            "冥\n"
          ]
        }
      ]
    },
    {
      "cell_type": "code",
      "source": [
        "arrays = [\"水\",\"金\",\"地\",\"火\",\"木\",\"土\",\"天\",\"海\",\"冥\"]\n",
        "a = 0\n",
        "\n",
        "# 全要素を2回プリントするために範囲を18 (9 * 2) に設定\n",
        "while a < 18:\n",
        "    print(arrays[a % 9])  # % 9 を使ってインデックスを管理します\n",
        "    a += 1"
      ],
      "metadata": {
        "id": "sJ4eg-oN39Ny",
        "colab": {
          "base_uri": "https://localhost:8080/"
        },
        "outputId": "e6f04577-1eab-45bd-88e1-a444d508bb41"
      },
      "execution_count": 1,
      "outputs": [
        {
          "output_type": "stream",
          "name": "stdout",
          "text": [
            "水\n",
            "金\n",
            "地\n",
            "火\n",
            "木\n",
            "土\n",
            "天\n",
            "海\n",
            "冥\n",
            "水\n",
            "金\n",
            "地\n",
            "火\n",
            "木\n",
            "土\n",
            "天\n",
            "海\n",
            "冥\n"
          ]
        }
      ]
    }
  ]
}
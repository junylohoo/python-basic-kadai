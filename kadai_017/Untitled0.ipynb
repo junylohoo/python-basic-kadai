{
  "nbformat": 4,
  "nbformat_minor": 0,
  "metadata": {
    "colab": {
      "provenance": [],
      "gpuType": "T4"
    },
    "kernelspec": {
      "name": "python3",
      "display_name": "Python 3"
    },
    "language_info": {
      "name": "python"
    }
  },
  "cells": [
    {
      "cell_type": "code",
      "source": [
        "class Human:\n",
        "    def __init__(self, name, age):\n",
        "        self.name = name\n",
        "        self.age = age\n",
        "\n",
        "    def check_adult(self):\n",
        "        if self.age>= 20:\n",
        "              print(f\"{self.name}は大人です。\")\n",
        "        else:\n",
        "              print(f\"{self.name}は大人ではありません\")\n",
        "\n",
        "human1 = Human(\"Alice\", 20)\n",
        "human2 = Human(\"Bob\", 15)\n",
        "human3 = Human(\"Charlie\", 30)\n",
        "\n",
        "# 生成したインスタンスをリストに追加\n",
        "human_list = [human1, human2, human3]\n",
        "\n",
        "# リストの要素数分だけcheck_adultメソッドを呼び出す\n",
        "for human in human_list:\n",
        "    human.check_adult()\n",
        "\n"
      ],
      "metadata": {
        "colab": {
          "base_uri": "https://localhost:8080/"
        },
        "id": "BUbwPjoMRtP6",
        "outputId": "e4414683-b477-4e83-dea9-0d00954f35bb"
      },
      "execution_count": 41,
      "outputs": [
        {
          "output_type": "stream",
          "name": "stdout",
          "text": [
            "Aliceは大人です。\n",
            "Bobは大人ではありません\n",
            "Charlieは大人です。\n"
          ]
        }
      ]
    }
  ]
}